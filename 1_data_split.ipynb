{
 "cells": [
  {
   "cell_type": "code",
   "execution_count": null,
   "metadata": {},
   "outputs": [],
   "source": [
    "path = 'C:/Users/1/attribution_project/'"
   ]
  },
  {
   "cell_type": "code",
   "execution_count": null,
   "metadata": {},
   "outputs": [],
   "source": [
    "outcome_var = 'conv_3'\n",
    "m_var = '0. Game page load'"
   ]
  },
  {
   "cell_type": "code",
   "execution_count": null,
   "metadata": {},
   "outputs": [],
   "source": [
    "categorical_vars = ['Source', 'Medium', 'Device Category', 'placement', 'version', 'asset_type', \n",
    "                    'weekday', 'ad_id', 'ad_type', 'campaign_type']"
   ]
  },
  {
   "cell_type": "code",
   "execution_count": null,
   "metadata": {},
   "outputs": [],
   "source": [
    "random_state = 7"
   ]
  },
  {
   "cell_type": "code",
   "execution_count": null,
   "metadata": {},
   "outputs": [],
   "source": []
  },
  {
   "cell_type": "code",
   "execution_count": null,
   "metadata": {},
   "outputs": [],
   "source": [
    "import pandas as pd\n",
    "import matplotlib.pyplot as plt\n",
    "import numpy as np\n",
    "import pickle\n",
    "from sklearn.model_selection import train_test_split, KFold"
   ]
  },
  {
   "cell_type": "code",
   "execution_count": null,
   "metadata": {},
   "outputs": [],
   "source": [
    "def data_split(categorical_vars, path, m=10, random_state=7):\n",
    "    \n",
    "    path_in = path + 'data/'\n",
    "    \n",
    "    data = pickle.load(open(path_in + 'data.pkl','rb'))\n",
    "\n",
    "    path_out = path + 'results/m' + str(m) + '/data/'\n",
    "\n",
    "    data = data[data[m_var]>m]\n",
    "    data = data.reset_index(drop=True)\n",
    "\n",
    "    X= data.drop(outcome_var, axis=1)\n",
    "    y = data[outcome_var]\n",
    "\n",
    "    X = X.drop(m_var, axis=1)\n",
    "\n",
    "    X['version'] = X['version'].astype('str')\n",
    "\n",
    "    for var in categorical_vars:\n",
    "        X[var] = X[var].astype('category')\n",
    "\n",
    "    #split the data\n",
    "    X_train, X_test, y_train, y_test = train_test_split(X, y, test_size=0.20, random_state=random_state)\n",
    "    cv = KFold(n_splits=5, random_state=random_state, shuffle=True)\n",
    "\n",
    "    #export data\n",
    "\n",
    "    pickle.dump(X, open(path_out + 'X.pkl','wb'))\n",
    "    pickle.dump(y, open(path_out + 'y.pkl','wb'))\n",
    "    pickle.dump(categorical_vars, open(path_out + 'categorical_vars.pkl','wb'))\n",
    "\n",
    "    pickle.dump(X_train, open(path_out + 'X_train.pkl','wb'))\n",
    "    pickle.dump(y_train, open(path_out + 'y_train.pkl','wb'))\n",
    "    pickle.dump(X_test, open(path_out + 'X_test.pkl','wb'))\n",
    "    pickle.dump(y_test, open(path_out + 'y_test.pkl','wb'))\n",
    "    pickle.dump(cv, open(path_out + 'cv.pkl','wb'))\n",
    "    \n",
    "    plt.clf()\n",
    "    plt.hist(y)\n",
    "    plt.tight_layout()\n",
    "    plt.savefig(path_out + 'y_hist.jpg')\n",
    "    \n",
    "    plt.clf()\n",
    "    plt.hist(y_train)\n",
    "    plt.tight_layout()\n",
    "    plt.savefig(path_out + 'y_hist_train.jpg')\n",
    "    \n",
    "    plt.clf()\n",
    "    plt.hist(y_test)\n",
    "    plt.tight_layout()\n",
    "    plt.savefig(path_out + 'y_hist_test.jpg')\n",
    "    \n",
    "    \n",
    "    print(m)\n",
    "    print('total:',len(y))\n",
    "    print('train:',len(y_train))\n",
    "    print('test:',len(y_test))"
   ]
  },
  {
   "cell_type": "code",
   "execution_count": null,
   "metadata": {},
   "outputs": [],
   "source": [
    "for m in [3,7,10]:\n",
    "    data_split(categorical_vars, path, m=m, random_state=random_state)"
   ]
  },
  {
   "cell_type": "code",
   "execution_count": null,
   "metadata": {},
   "outputs": [],
   "source": []
  }
 ],
 "metadata": {
  "kernelspec": {
   "display_name": "Python 3",
   "language": "python",
   "name": "python3"
  },
  "language_info": {
   "codemirror_mode": {
    "name": "ipython",
    "version": 3
   },
   "file_extension": ".py",
   "mimetype": "text/x-python",
   "name": "python",
   "nbconvert_exporter": "python",
   "pygments_lexer": "ipython3",
   "version": "3.7.9"
  }
 },
 "nbformat": 4,
 "nbformat_minor": 4
}
